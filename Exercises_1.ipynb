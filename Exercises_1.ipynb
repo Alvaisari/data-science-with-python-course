{
  "cells": [
    {
      "cell_type": "markdown",
      "metadata": {
        "id": "C8IJk6c_8Wir"
      },
      "source": [
        "![rmotr](https://user-images.githubusercontent.com/7065401/52071918-bda15380-2562-11e9-828c-7f95297e4a82.png)\n",
        "<hr style=\"margin-bottom: 40px;\">\n",
        "\n",
        "<img src=\"https://user-images.githubusercontent.com/7065401/58563302-42466a80-8201-11e9-9948-b3e9f88a5662.jpg\"\n",
        "    style=\"width:400px; float: right; margin: 0 40px 40px 40px;\"></img>\n",
        "\n",
        "# Exercises\n",
        "## Bike store sales"
      ]
    },
    {
      "cell_type": "markdown",
      "metadata": {
        "id": "rQrbel7f8Wix"
      },
      "source": [
        "![purple-divider](https://user-images.githubusercontent.com/7065401/52071927-c1cd7100-2562-11e9-908a-dde91ba14e59.png)\n",
        "\n",
        "## Hands on!"
      ]
    },
    {
      "cell_type": "code",
      "execution_count": null,
      "metadata": {
        "id": "MDhlWwTn8Wiy"
      },
      "outputs": [],
      "source": [
        "import numpy as np\n",
        "import pandas as pd\n",
        "import matplotlib.pyplot as plt\n",
        "\n",
        "%matplotlib inline"
      ]
    },
    {
      "cell_type": "code",
      "execution_count": null,
      "metadata": {
        "id": "NRlHknrS8Wi0"
      },
      "outputs": [],
      "source": [
        "sales = pd.read_csv(\n",
        "    'data/sales_data.csv',\n",
        "    parse_dates=['Date'])"
      ]
    },
    {
      "cell_type": "code",
      "execution_count": null,
      "metadata": {
        "id": "6tW4dk6r8Wi0"
      },
      "outputs": [],
      "source": [
        "sales.head()"
      ]
    },
    {
      "cell_type": "markdown",
      "metadata": {
        "id": "QOtylrcA8Wi1"
      },
      "source": [
        "![green-divider](https://user-images.githubusercontent.com/7065401/52071924-c003ad80-2562-11e9-8297-1c6595f8a7ff.png)\n",
        "\n",
        "### What's the mean of `Customers_Age`?"
      ]
    },
    {
      "cell_type": "code",
      "execution_count": null,
      "metadata": {
        "id": "8pwZ38g-8Wi2"
      },
      "outputs": [],
      "source": [
        "# your code goes here\n"
      ]
    },
    {
      "cell_type": "markdown",
      "metadata": {
        "cell_type": "hint",
        "id": "9KiFzufl8Wi3"
      },
      "source": [
        "Why don't you try with `.mean()`"
      ]
    },
    {
      "cell_type": "code",
      "execution_count": null,
      "metadata": {
        "cell_type": "solution",
        "id": "bshCl19P8Wi3"
      },
      "outputs": [],
      "source": [
        "sales['Customer_Age'].mean()"
      ]
    },
    {
      "cell_type": "markdown",
      "metadata": {
        "id": "x_XkwWMP8Wi4"
      },
      "source": [
        "Go ahead and show a <b>density (KDE)</b> and a <b>box plot</b> with the `Customer_Age` data:"
      ]
    },
    {
      "cell_type": "code",
      "execution_count": null,
      "metadata": {
        "id": "isHheQaJ8Wi5"
      },
      "outputs": [],
      "source": [
        "# your code goes here\n"
      ]
    },
    {
      "cell_type": "code",
      "execution_count": null,
      "metadata": {
        "cell_type": "solution",
        "id": "yoEzBkWR8Wi5"
      },
      "outputs": [],
      "source": [
        "sales['Customer_Age'].plot(kind='kde', figsize=(14,6))"
      ]
    },
    {
      "cell_type": "code",
      "execution_count": null,
      "metadata": {
        "cell_type": "solution",
        "id": "NUjEUaNR8Wi6"
      },
      "outputs": [],
      "source": [
        "sales['Customer_Age'].plot(kind='box', vert=False, figsize=(14,6))"
      ]
    },
    {
      "cell_type": "markdown",
      "metadata": {
        "id": "3_vwLAFb8Wi6"
      },
      "source": [
        "![green-divider](https://user-images.githubusercontent.com/7065401/52071924-c003ad80-2562-11e9-8297-1c6595f8a7ff.png)\n",
        "\n",
        "### What's the mean of `Order_Quantity`?"
      ]
    },
    {
      "cell_type": "code",
      "execution_count": null,
      "metadata": {
        "id": "McvePX1o8Wi7"
      },
      "outputs": [],
      "source": [
        "# your code goes here\n"
      ]
    },
    {
      "cell_type": "code",
      "execution_count": null,
      "metadata": {
        "cell_type": "solution",
        "id": "kGnGw1cz8Wi7"
      },
      "outputs": [],
      "source": [
        "sales['Order_Quantity'].mean()"
      ]
    },
    {
      "cell_type": "markdown",
      "metadata": {
        "id": "So7JB10m8Wi7"
      },
      "source": [
        "Go ahead and show a <b>histogram</b> and a <b>box plot</b> with the `Order_Quantity` data:"
      ]
    },
    {
      "cell_type": "code",
      "execution_count": null,
      "metadata": {
        "id": "v-Skawu68Wi7"
      },
      "outputs": [],
      "source": [
        "# your code goes here\n"
      ]
    },
    {
      "cell_type": "code",
      "execution_count": null,
      "metadata": {
        "cell_type": "solution",
        "id": "YrixFji38Wi8"
      },
      "outputs": [],
      "source": [
        "sales['Order_Quantity'].plot(kind='hist', bins=30, figsize=(14,6))"
      ]
    },
    {
      "cell_type": "code",
      "execution_count": null,
      "metadata": {
        "cell_type": "solution",
        "id": "vaiU9EGo8Wi8"
      },
      "outputs": [],
      "source": [
        "sales['Order_Quantity'].plot(kind='box', vert=False, figsize=(14,6))"
      ]
    },
    {
      "cell_type": "markdown",
      "metadata": {
        "id": "utB9ITP98Wi8"
      },
      "source": [
        "![green-divider](https://user-images.githubusercontent.com/7065401/52071924-c003ad80-2562-11e9-8297-1c6595f8a7ff.png)\n",
        "\n",
        "### How many sales per year do we have?"
      ]
    },
    {
      "cell_type": "code",
      "execution_count": null,
      "metadata": {
        "id": "6rOvPq9M8Wi8"
      },
      "outputs": [],
      "source": [
        "# your code goes here\n"
      ]
    },
    {
      "cell_type": "code",
      "execution_count": null,
      "metadata": {
        "cell_type": "solution",
        "id": "89T73f4s8Wi8"
      },
      "outputs": [],
      "source": [
        "sales['Year'].value_counts()"
      ]
    },
    {
      "cell_type": "markdown",
      "metadata": {
        "id": "xTt1eMEy8Wi9"
      },
      "source": [
        "Go ahead and show a <b>pie plot</b> with the previous data:"
      ]
    },
    {
      "cell_type": "code",
      "execution_count": null,
      "metadata": {
        "id": "-I9LZS8K8Wi9"
      },
      "outputs": [],
      "source": [
        "# your code goes here\n"
      ]
    },
    {
      "cell_type": "code",
      "execution_count": null,
      "metadata": {
        "cell_type": "solution",
        "id": "8EHIOj_D8Wi9"
      },
      "outputs": [],
      "source": [
        "sales['Year'].value_counts().plot(kind='pie', figsize=(6,6))"
      ]
    },
    {
      "cell_type": "markdown",
      "metadata": {
        "id": "LRelxXF78Wi9"
      },
      "source": [
        "![green-divider](https://user-images.githubusercontent.com/7065401/52071924-c003ad80-2562-11e9-8297-1c6595f8a7ff.png)\n",
        "\n",
        "### How many sales per month do we have?"
      ]
    },
    {
      "cell_type": "code",
      "execution_count": null,
      "metadata": {
        "id": "SO7Rfv738Wi9"
      },
      "outputs": [],
      "source": [
        "# your code goes here\n"
      ]
    },
    {
      "cell_type": "code",
      "execution_count": null,
      "metadata": {
        "cell_type": "solution",
        "id": "KYHBwCWb8Wi-"
      },
      "outputs": [],
      "source": [
        "sales['Month'].value_counts()"
      ]
    },
    {
      "cell_type": "markdown",
      "metadata": {
        "id": "0C1h0dN88Wi-"
      },
      "source": [
        "Go ahead and show a <b>bar plot</b> with the previous data:"
      ]
    },
    {
      "cell_type": "code",
      "execution_count": null,
      "metadata": {
        "id": "0PIo0BAE8Wi-"
      },
      "outputs": [],
      "source": [
        "# your code goes here\n"
      ]
    },
    {
      "cell_type": "code",
      "execution_count": null,
      "metadata": {
        "cell_type": "solution",
        "id": "GeJJrr6f8Wi-"
      },
      "outputs": [],
      "source": [
        "sales['Month'].value_counts().plot(kind='bar', figsize=(14,6))"
      ]
    },
    {
      "cell_type": "markdown",
      "metadata": {
        "id": "QfGHSh3w8Wi-"
      },
      "source": [
        "![green-divider](https://user-images.githubusercontent.com/7065401/52071924-c003ad80-2562-11e9-8297-1c6595f8a7ff.png)\n",
        "\n",
        "### Which country has the most sales `quantity of sales`?"
      ]
    },
    {
      "cell_type": "code",
      "execution_count": null,
      "metadata": {
        "id": "NWUqR5Jw8Wi_"
      },
      "outputs": [],
      "source": [
        "# your code goes here\n"
      ]
    },
    {
      "cell_type": "code",
      "execution_count": null,
      "metadata": {
        "cell_type": "solution",
        "id": "j3XswzF48Wi_"
      },
      "outputs": [],
      "source": [
        "sales['Country'].value_counts().head(1)"
      ]
    },
    {
      "cell_type": "code",
      "execution_count": null,
      "metadata": {
        "cell_type": "solution",
        "id": "UzT472bu8Wi_"
      },
      "outputs": [],
      "source": [
        "sales['Country'].value_counts()"
      ]
    },
    {
      "cell_type": "markdown",
      "metadata": {
        "id": "BNIAnw_c8Wi_"
      },
      "source": [
        "Go ahead and show a <b>bar plot</b> of the sales per country:"
      ]
    },
    {
      "cell_type": "code",
      "execution_count": null,
      "metadata": {
        "id": "Wd4dTt9b8Wi_"
      },
      "outputs": [],
      "source": [
        "# your code goes here\n"
      ]
    },
    {
      "cell_type": "code",
      "execution_count": null,
      "metadata": {
        "cell_type": "solution",
        "id": "cMj8q_8c8Wi_"
      },
      "outputs": [],
      "source": [
        "sales['Country'].value_counts().plot(kind='bar', figsize=(14,6))"
      ]
    },
    {
      "cell_type": "markdown",
      "metadata": {
        "id": "JypEi9Cd8WjH"
      },
      "source": [
        "![green-divider](https://user-images.githubusercontent.com/7065401/52071924-c003ad80-2562-11e9-8297-1c6595f8a7ff.png)\n",
        "\n",
        "### Create a list of every product sold"
      ]
    },
    {
      "cell_type": "code",
      "execution_count": null,
      "metadata": {
        "id": "l8QTphcn8WjH"
      },
      "outputs": [],
      "source": [
        "# your code goes here\n"
      ]
    },
    {
      "cell_type": "code",
      "execution_count": null,
      "metadata": {
        "cell_type": "solution",
        "id": "-2iEumF08WjI"
      },
      "outputs": [],
      "source": [
        "#sales.loc[:, 'Product'].unique()\n",
        "\n",
        "sales['Product'].unique()"
      ]
    },
    {
      "cell_type": "markdown",
      "metadata": {
        "id": "BozbuybY8WjI"
      },
      "source": [
        "Create a **bar plot** showing the 10 most sold products (best sellers):"
      ]
    },
    {
      "cell_type": "code",
      "execution_count": null,
      "metadata": {
        "id": "YMbpEfWn8WjI"
      },
      "outputs": [],
      "source": [
        "# your code goes here\n"
      ]
    },
    {
      "cell_type": "code",
      "execution_count": null,
      "metadata": {
        "cell_type": "solution",
        "id": "SfNST74E8WjI"
      },
      "outputs": [],
      "source": [
        "sales['Product'].value_counts().head(10).plot(kind='bar', figsize=(14,6))"
      ]
    },
    {
      "cell_type": "markdown",
      "metadata": {
        "id": "UizV06tH8WjI"
      },
      "source": [
        "![green-divider](https://user-images.githubusercontent.com/7065401/52071924-c003ad80-2562-11e9-8297-1c6595f8a7ff.png)\n",
        "\n",
        "### Can you see any relationship between `Unit_Cost` and `Unit_Price`?\n",
        "\n",
        "Show a <b>scatter plot</b> between both columns."
      ]
    },
    {
      "cell_type": "code",
      "execution_count": null,
      "metadata": {
        "id": "g-lqw0Ub8WjJ"
      },
      "outputs": [],
      "source": [
        "# your code goes here\n"
      ]
    },
    {
      "cell_type": "code",
      "execution_count": null,
      "metadata": {
        "cell_type": "solution",
        "id": "iTbCnSXu8WjJ"
      },
      "outputs": [],
      "source": [
        "sales.plot(kind='scatter', x='Unit_Cost', y='Unit_Price', figsize=(6,6))"
      ]
    },
    {
      "cell_type": "markdown",
      "metadata": {
        "id": "qxXp8a5_8WjJ"
      },
      "source": [
        "![green-divider](https://user-images.githubusercontent.com/7065401/52071924-c003ad80-2562-11e9-8297-1c6595f8a7ff.png)\n",
        "\n",
        "### Can you see any relationship between `Order_Quantity` and `Profit`?\n",
        "\n",
        "Show a <b>scatter plot</b> between both columns."
      ]
    },
    {
      "cell_type": "code",
      "execution_count": null,
      "metadata": {
        "id": "iS8d3Wi68WjK"
      },
      "outputs": [],
      "source": [
        "# your code goes here\n"
      ]
    },
    {
      "cell_type": "code",
      "execution_count": null,
      "metadata": {
        "cell_type": "solution",
        "id": "9dmzehck8WjK"
      },
      "outputs": [],
      "source": [
        "sales.plot(kind='scatter', x='Order_Quantity', y='Profit', figsize=(6,6))"
      ]
    },
    {
      "cell_type": "markdown",
      "metadata": {
        "id": "3jbx0PDj8WjK"
      },
      "source": [
        "![green-divider](https://user-images.githubusercontent.com/7065401/52071924-c003ad80-2562-11e9-8297-1c6595f8a7ff.png)\n",
        "\n",
        "### Can you see any relationship between `Profit` per `Country`?\n",
        "\n",
        "Show a grouped <b>box plot</b> per country with the profit values."
      ]
    },
    {
      "cell_type": "code",
      "execution_count": null,
      "metadata": {
        "id": "2N4rSqnM8WjK"
      },
      "outputs": [],
      "source": [
        "# your code goes here\n"
      ]
    },
    {
      "cell_type": "code",
      "execution_count": null,
      "metadata": {
        "cell_type": "solution",
        "id": "dEgGI_1a8WjL"
      },
      "outputs": [],
      "source": [
        "sales[['Profit', 'Country']].boxplot(by='Country', figsize=(10,6))"
      ]
    },
    {
      "cell_type": "markdown",
      "metadata": {
        "id": "huRMQhmj8WjL"
      },
      "source": [
        "![green-divider](https://user-images.githubusercontent.com/7065401/52071924-c003ad80-2562-11e9-8297-1c6595f8a7ff.png)\n",
        "\n",
        "### Can you see any relationship between the `Customer_Age` per `Country`?\n",
        "\n",
        "Show a grouped <b>box plot</b> per country with the customer age values."
      ]
    },
    {
      "cell_type": "code",
      "execution_count": null,
      "metadata": {
        "id": "R_MquThK8WjL"
      },
      "outputs": [],
      "source": [
        "# your code goes here\n"
      ]
    },
    {
      "cell_type": "code",
      "execution_count": null,
      "metadata": {
        "cell_type": "solution",
        "id": "MpsEq3S68WjL"
      },
      "outputs": [],
      "source": [
        "sales[['Customer_Age', 'Country']].boxplot(by='Country', figsize=(10,6))"
      ]
    },
    {
      "cell_type": "markdown",
      "metadata": {
        "id": "p2bhiumQ8WjM"
      },
      "source": [
        "![green-divider](https://user-images.githubusercontent.com/7065401/52071924-c003ad80-2562-11e9-8297-1c6595f8a7ff.png)\n",
        "\n",
        "### Add and calculate a new `Calculated_Date` column\n",
        "\n",
        "Use `Day`, `Month`, `Year` to create a `Date` column (`YYYY-MM-DD`)."
      ]
    },
    {
      "cell_type": "code",
      "execution_count": null,
      "metadata": {
        "id": "bLkScmlv8WjM"
      },
      "outputs": [],
      "source": [
        "# your code goes here\n"
      ]
    },
    {
      "cell_type": "code",
      "execution_count": null,
      "metadata": {
        "cell_type": "solution",
        "id": "GkhdZImj8WjM"
      },
      "outputs": [],
      "source": [
        "sales['Calculated_Date'] = sales[['Year', 'Month', 'Day']].apply(lambda x: '{}-{}-{}'.format(x[0], x[1], x[2]), axis=1)\n",
        "\n",
        "sales['Calculated_Date'].head()"
      ]
    },
    {
      "cell_type": "markdown",
      "metadata": {
        "id": "Jgpm_8vC8WjM"
      },
      "source": [
        "![green-divider](https://user-images.githubusercontent.com/7065401/52071924-c003ad80-2562-11e9-8297-1c6595f8a7ff.png)\n",
        "\n",
        "### Parse your `Calculated_Date` column into a datetime object"
      ]
    },
    {
      "cell_type": "code",
      "execution_count": null,
      "metadata": {
        "id": "v7MnQ6v48WjN"
      },
      "outputs": [],
      "source": [
        "# your code goes here\n"
      ]
    },
    {
      "cell_type": "code",
      "execution_count": null,
      "metadata": {
        "cell_type": "solution",
        "id": "vy7XCbHz8WjN"
      },
      "outputs": [],
      "source": [
        "sales['Calculated_Date'] = pd.to_datetime(sales['Calculated_Date'])\n",
        "\n",
        "sales['Calculated_Date'].head()"
      ]
    },
    {
      "cell_type": "markdown",
      "metadata": {
        "id": "zL5Fyet58WjN"
      },
      "source": [
        "![green-divider](https://user-images.githubusercontent.com/7065401/52071924-c003ad80-2562-11e9-8297-1c6595f8a7ff.png)\n",
        "\n",
        "### How did sales evolve through the years?\n",
        "\n",
        "Show a <b>line plot</b> using `Calculated_Date` column as the x-axis and the count of sales as the y-axis."
      ]
    },
    {
      "cell_type": "code",
      "execution_count": null,
      "metadata": {
        "id": "HCN_Y54r8WjN"
      },
      "outputs": [],
      "source": [
        "# your code goes here\n"
      ]
    },
    {
      "cell_type": "code",
      "execution_count": null,
      "metadata": {
        "cell_type": "solution",
        "id": "ow0VpNG08WjN"
      },
      "outputs": [],
      "source": [
        "sales['Calculated_Date'].value_counts().plot(kind='line', figsize=(14,6))"
      ]
    },
    {
      "cell_type": "markdown",
      "metadata": {
        "id": "Gt36L_aB8WjO"
      },
      "source": [
        "![green-divider](https://user-images.githubusercontent.com/7065401/52071924-c003ad80-2562-11e9-8297-1c6595f8a7ff.png)\n",
        "\n",
        "### Increase 50 U$S revenue to every sale"
      ]
    },
    {
      "cell_type": "code",
      "execution_count": null,
      "metadata": {
        "id": "JiML_wnq8WjO"
      },
      "outputs": [],
      "source": [
        "# your code goes here\n"
      ]
    },
    {
      "cell_type": "code",
      "execution_count": null,
      "metadata": {
        "cell_type": "solution",
        "id": "JGDEMLyH8WjO"
      },
      "outputs": [],
      "source": [
        "#sales['Revenue'] = sales['Revenue'] + 50\n",
        "\n",
        "sales['Revenue'] += 50"
      ]
    },
    {
      "cell_type": "markdown",
      "metadata": {
        "id": "f4nMCPZI8WjO"
      },
      "source": [
        "![green-divider](https://user-images.githubusercontent.com/7065401/52071924-c003ad80-2562-11e9-8297-1c6595f8a7ff.png)\n",
        "\n",
        "### How many orders were made in `Canada` or `France`?"
      ]
    },
    {
      "cell_type": "code",
      "execution_count": null,
      "metadata": {
        "id": "hZ30Zz5S8WjO"
      },
      "outputs": [],
      "source": [
        "# your code goes here\n"
      ]
    },
    {
      "cell_type": "code",
      "execution_count": null,
      "metadata": {
        "cell_type": "solution",
        "id": "nx0fIgjl8WjP"
      },
      "outputs": [],
      "source": [
        "sales.loc[(sales['Country'] == 'Canada') | (sales['Country'] == 'France')].shape[0]"
      ]
    },
    {
      "cell_type": "markdown",
      "metadata": {
        "id": "L--cCi4-8WjP"
      },
      "source": [
        "![green-divider](https://user-images.githubusercontent.com/7065401/52071924-c003ad80-2562-11e9-8297-1c6595f8a7ff.png)\n",
        "\n",
        "### How many `Bike Racks` orders were made from Canada?"
      ]
    },
    {
      "cell_type": "code",
      "execution_count": null,
      "metadata": {
        "id": "SAkWHugI8WjP"
      },
      "outputs": [],
      "source": [
        "# your code goes here\n"
      ]
    },
    {
      "cell_type": "code",
      "execution_count": null,
      "metadata": {
        "cell_type": "solution",
        "id": "kAKMqylG8WjQ"
      },
      "outputs": [],
      "source": [
        "sales.loc[(sales['Country'] == 'Canada') & (sales['Sub_Category'] == 'Bike Racks')].shape[0]"
      ]
    },
    {
      "cell_type": "markdown",
      "metadata": {
        "id": "BnUUcpAU8WjQ"
      },
      "source": [
        "![green-divider](https://user-images.githubusercontent.com/7065401/52071924-c003ad80-2562-11e9-8297-1c6595f8a7ff.png)\n",
        "\n",
        "### How many orders were made in each region (state) of France?"
      ]
    },
    {
      "cell_type": "code",
      "execution_count": null,
      "metadata": {
        "id": "QNWnOR8o8WjR"
      },
      "outputs": [],
      "source": [
        "# your code goes here\n"
      ]
    },
    {
      "cell_type": "code",
      "execution_count": null,
      "metadata": {
        "cell_type": "solution",
        "id": "VMyQ7gfc8WjR"
      },
      "outputs": [],
      "source": [
        "france_states = sales.loc[sales['Country'] == 'France', 'State'].value_counts()\n",
        "\n",
        "france_states"
      ]
    },
    {
      "cell_type": "markdown",
      "metadata": {
        "id": "_wBLrgog8WjR"
      },
      "source": [
        "Go ahead and show a <b>bar plot</b> with the results:"
      ]
    },
    {
      "cell_type": "code",
      "execution_count": null,
      "metadata": {
        "id": "_aCzC1pU8WjR"
      },
      "outputs": [],
      "source": [
        "# your code goes here\n"
      ]
    },
    {
      "cell_type": "code",
      "execution_count": null,
      "metadata": {
        "cell_type": "solution",
        "id": "M0DCp4t78WjS"
      },
      "outputs": [],
      "source": [
        "france_states.plot(kind='bar', figsize=(14,6))"
      ]
    },
    {
      "cell_type": "markdown",
      "metadata": {
        "id": "ww6u0PCQ8WjS"
      },
      "source": [
        "![green-divider](https://user-images.githubusercontent.com/7065401/52071924-c003ad80-2562-11e9-8297-1c6595f8a7ff.png)\n",
        "\n",
        "### How many sales were made per category?"
      ]
    },
    {
      "cell_type": "code",
      "execution_count": null,
      "metadata": {
        "id": "LtZ2q64w8WjS"
      },
      "outputs": [],
      "source": [
        "# your code goes here\n"
      ]
    },
    {
      "cell_type": "code",
      "execution_count": null,
      "metadata": {
        "cell_type": "solution",
        "id": "fEmfsDIz8WjS"
      },
      "outputs": [],
      "source": [
        "sales['Product_Category'].value_counts()"
      ]
    },
    {
      "cell_type": "markdown",
      "metadata": {
        "id": "qvn5IeQM8WjT"
      },
      "source": [
        "Go ahead and show a <b>pie plot</b> with the results:"
      ]
    },
    {
      "cell_type": "code",
      "execution_count": null,
      "metadata": {
        "id": "bCeHifL08WjT"
      },
      "outputs": [],
      "source": [
        "# your code goes here\n"
      ]
    },
    {
      "cell_type": "code",
      "execution_count": null,
      "metadata": {
        "cell_type": "solution",
        "id": "hjWqjJlF8WjT"
      },
      "outputs": [],
      "source": [
        "sales['Product_Category'].value_counts().plot(kind='pie', figsize=(6,6))"
      ]
    },
    {
      "cell_type": "markdown",
      "metadata": {
        "id": "Vcp-Ktu98WjT"
      },
      "source": [
        "![green-divider](https://user-images.githubusercontent.com/7065401/52071924-c003ad80-2562-11e9-8297-1c6595f8a7ff.png)\n",
        "\n",
        "### How many orders were made per accessory sub-categories?"
      ]
    },
    {
      "cell_type": "code",
      "execution_count": null,
      "metadata": {
        "id": "s6mpyHcJ8WjT"
      },
      "outputs": [],
      "source": [
        "# your code goes here\n"
      ]
    },
    {
      "cell_type": "code",
      "execution_count": null,
      "metadata": {
        "cell_type": "solution",
        "id": "6oTlBjW-8WjU"
      },
      "outputs": [],
      "source": [
        "accessories = sales.loc[sales['Product_Category'] == 'Accessories', 'Sub_Category'].value_counts()\n",
        "\n",
        "accessories"
      ]
    },
    {
      "cell_type": "markdown",
      "metadata": {
        "id": "ISH2vVRc8WjU"
      },
      "source": [
        "Go ahead and show a <b>bar plot</b> with the results:"
      ]
    },
    {
      "cell_type": "code",
      "execution_count": null,
      "metadata": {
        "id": "bChWHKco8WjU"
      },
      "outputs": [],
      "source": [
        "# your code goes here\n"
      ]
    },
    {
      "cell_type": "code",
      "execution_count": null,
      "metadata": {
        "cell_type": "solution",
        "id": "Q851TF9E8WjU"
      },
      "outputs": [],
      "source": [
        "accessories.plot(kind='bar', figsize=(14,6))"
      ]
    },
    {
      "cell_type": "markdown",
      "metadata": {
        "id": "L6DJYM_r8WjU"
      },
      "source": [
        "![green-divider](https://user-images.githubusercontent.com/7065401/52071924-c003ad80-2562-11e9-8297-1c6595f8a7ff.png)\n",
        "\n",
        "### How many orders were made per bike sub-categories?"
      ]
    },
    {
      "cell_type": "code",
      "execution_count": null,
      "metadata": {
        "id": "JHv_Jr3Y8WjV"
      },
      "outputs": [],
      "source": [
        "# your code goes here\n"
      ]
    },
    {
      "cell_type": "code",
      "execution_count": null,
      "metadata": {
        "cell_type": "solution",
        "id": "s6m43XnH8WjV"
      },
      "outputs": [],
      "source": [
        "bikes = sales.loc[sales['Product_Category'] == 'Bikes', 'Sub_Category'].value_counts()\n",
        "\n",
        "bikes"
      ]
    },
    {
      "cell_type": "markdown",
      "metadata": {
        "id": "v4VbJ17Q8WjV"
      },
      "source": [
        "Go ahead and show a <b>pie plot</b> with the results:"
      ]
    },
    {
      "cell_type": "code",
      "execution_count": null,
      "metadata": {
        "id": "rRajfJXY8WjV"
      },
      "outputs": [],
      "source": [
        "# your code goes here\n"
      ]
    },
    {
      "cell_type": "code",
      "execution_count": null,
      "metadata": {
        "cell_type": "solution",
        "id": "ET3CF8C-8WjV"
      },
      "outputs": [],
      "source": [
        "bikes.plot(kind='pie', figsize=(6,6))"
      ]
    },
    {
      "cell_type": "markdown",
      "metadata": {
        "id": "iwWtZFdD8WjW"
      },
      "source": [
        "![green-divider](https://user-images.githubusercontent.com/7065401/52071924-c003ad80-2562-11e9-8297-1c6595f8a7ff.png)\n",
        "\n",
        "### Which gender has the most amount of sales?"
      ]
    },
    {
      "cell_type": "code",
      "execution_count": null,
      "metadata": {
        "id": "cQ1OCom48WjW"
      },
      "outputs": [],
      "source": [
        "# your code goes here\n"
      ]
    },
    {
      "cell_type": "code",
      "execution_count": null,
      "metadata": {
        "cell_type": "solution",
        "id": "AEui_iXQ8WjX"
      },
      "outputs": [],
      "source": [
        "sales['Customer_Gender'].value_counts()"
      ]
    },
    {
      "cell_type": "code",
      "execution_count": null,
      "metadata": {
        "cell_type": "solution",
        "id": "mITA6cem8WjX"
      },
      "outputs": [],
      "source": [
        "sales['Customer_Gender'].value_counts().plot(kind='bar')"
      ]
    },
    {
      "cell_type": "markdown",
      "metadata": {
        "id": "EPE47SRI8WjX"
      },
      "source": [
        "![green-divider](https://user-images.githubusercontent.com/7065401/52071924-c003ad80-2562-11e9-8297-1c6595f8a7ff.png)\n",
        "\n",
        "### How many sales with more than 500 in `Revenue` were made by men?"
      ]
    },
    {
      "cell_type": "code",
      "execution_count": null,
      "metadata": {
        "id": "qo1fkAKU8WjY"
      },
      "outputs": [],
      "source": [
        "# your code goes here\n"
      ]
    },
    {
      "cell_type": "code",
      "execution_count": null,
      "metadata": {
        "cell_type": "solution",
        "id": "A59t9UCO8WjY"
      },
      "outputs": [],
      "source": [
        "sales.loc[(sales['Customer_Gender'] == 'M') & (sales['Revenue'] == 500)].shape[0]"
      ]
    },
    {
      "cell_type": "markdown",
      "metadata": {
        "id": "VKGrkIUj8WjY"
      },
      "source": [
        "![green-divider](https://user-images.githubusercontent.com/7065401/52071924-c003ad80-2562-11e9-8297-1c6595f8a7ff.png)\n",
        "\n",
        "### Get the top-5 sales with the highest revenue"
      ]
    },
    {
      "cell_type": "code",
      "execution_count": null,
      "metadata": {
        "id": "tewKVl5l8WjY"
      },
      "outputs": [],
      "source": [
        "# your code goes here\n"
      ]
    },
    {
      "cell_type": "code",
      "execution_count": null,
      "metadata": {
        "cell_type": "solution",
        "id": "MzM8SBLp8WjZ"
      },
      "outputs": [],
      "source": [
        "sales.sort_values(['Revenue'], ascending=False).head(5)"
      ]
    },
    {
      "cell_type": "markdown",
      "metadata": {
        "id": "mo50jRrC8WjZ"
      },
      "source": [
        "![green-divider](https://user-images.githubusercontent.com/7065401/52071924-c003ad80-2562-11e9-8297-1c6595f8a7ff.png)\n",
        "\n",
        "### Get the sale with the highest revenue"
      ]
    },
    {
      "cell_type": "code",
      "execution_count": null,
      "metadata": {
        "id": "UhTIE_Rf8WjZ"
      },
      "outputs": [],
      "source": [
        "# your code goes here\n"
      ]
    },
    {
      "cell_type": "code",
      "execution_count": null,
      "metadata": {
        "cell_type": "solution",
        "id": "b2Z3mI7c8WjZ"
      },
      "outputs": [],
      "source": [
        "#sales.sort_values(['Revenue'], ascending=False).head(1)\n",
        "\n",
        "cond = sales['Revenue'] == sales['Revenue'].max()\n",
        "\n",
        "sales.loc[cond]"
      ]
    },
    {
      "cell_type": "markdown",
      "metadata": {
        "id": "HJQCb37A8WjZ"
      },
      "source": [
        "![green-divider](https://user-images.githubusercontent.com/7065401/52071924-c003ad80-2562-11e9-8297-1c6595f8a7ff.png)\n",
        "\n",
        "### What is the mean `Order_Quantity` of orders with more than 10K in revenue?"
      ]
    },
    {
      "cell_type": "code",
      "execution_count": null,
      "metadata": {
        "id": "NPl-Z8yg8Wja"
      },
      "outputs": [],
      "source": [
        "# your code goes here\n"
      ]
    },
    {
      "cell_type": "code",
      "execution_count": null,
      "metadata": {
        "cell_type": "solution",
        "id": "jeT0PWrt8Wja"
      },
      "outputs": [],
      "source": [
        "cond = sales['Revenue'] > 10_000\n",
        "\n",
        "sales.loc[cond, 'Order_Quantity'].mean()"
      ]
    },
    {
      "cell_type": "markdown",
      "metadata": {
        "id": "6aG4_7ai8Wja"
      },
      "source": [
        "![green-divider](https://user-images.githubusercontent.com/7065401/52071924-c003ad80-2562-11e9-8297-1c6595f8a7ff.png)\n",
        "\n",
        "### What is the mean `Order_Quantity` of orders with less than 10K in revenue?"
      ]
    },
    {
      "cell_type": "code",
      "execution_count": null,
      "metadata": {
        "id": "PdgqHPMX8Wja"
      },
      "outputs": [],
      "source": [
        "# your code goes here\n"
      ]
    },
    {
      "cell_type": "code",
      "execution_count": null,
      "metadata": {
        "cell_type": "solution",
        "id": "-CIBg8xz8Wja"
      },
      "outputs": [],
      "source": [
        "cond = sales['Revenue'] < 10_000\n",
        "\n",
        "sales.loc[cond, 'Order_Quantity'].mean()"
      ]
    },
    {
      "cell_type": "markdown",
      "metadata": {
        "id": "ncff9oZ88Wjb"
      },
      "source": [
        "![green-divider](https://user-images.githubusercontent.com/7065401/52071924-c003ad80-2562-11e9-8297-1c6595f8a7ff.png)\n",
        "\n",
        "### How many orders were made in May of 2016?"
      ]
    },
    {
      "cell_type": "code",
      "execution_count": null,
      "metadata": {
        "id": "1zkCNQAW8Wjb"
      },
      "outputs": [],
      "source": [
        "# your code goes here\n"
      ]
    },
    {
      "cell_type": "code",
      "execution_count": null,
      "metadata": {
        "cell_type": "solution",
        "id": "-Qow41OW8Wjb"
      },
      "outputs": [],
      "source": [
        "cond = (sales['Year'] == 2016) & (sales['Month'] == 'May')\n",
        "\n",
        "sales.loc[cond].shape[0]"
      ]
    },
    {
      "cell_type": "markdown",
      "metadata": {
        "id": "BlaB-SQE8Wjb"
      },
      "source": [
        "![green-divider](https://user-images.githubusercontent.com/7065401/52071924-c003ad80-2562-11e9-8297-1c6595f8a7ff.png)\n",
        "\n",
        "### How many orders were made between May and July of 2016?"
      ]
    },
    {
      "cell_type": "code",
      "execution_count": null,
      "metadata": {
        "id": "i6ruF57e8Wjc"
      },
      "outputs": [],
      "source": [
        "# your code goes here\n"
      ]
    },
    {
      "cell_type": "code",
      "execution_count": null,
      "metadata": {
        "cell_type": "solution",
        "id": "SN0VzPNb8Wjc"
      },
      "outputs": [],
      "source": [
        "cond = (sales['Year'] == 2016) & (sales['Month'].isin(['May', 'June', 'July']))\n",
        "\n",
        "sales.loc[cond].shape[0]"
      ]
    },
    {
      "cell_type": "markdown",
      "metadata": {
        "id": "Rb_8huyH8Wjc"
      },
      "source": [
        "Show a grouped <b>box plot</b> per month with the profit values."
      ]
    },
    {
      "cell_type": "code",
      "execution_count": null,
      "metadata": {
        "id": "wxIkMp8q8Wjc"
      },
      "outputs": [],
      "source": [
        "# your code goes here\n"
      ]
    },
    {
      "cell_type": "code",
      "execution_count": null,
      "metadata": {
        "cell_type": "solution",
        "id": "DYKYPs9z8Wjd"
      },
      "outputs": [],
      "source": [
        "profit_2016 = sales.loc[sales['Year'] == 2016, ['Profit', 'Month']]\n",
        "\n",
        "profit_2016.boxplot(by='Month', figsize=(14,6))"
      ]
    },
    {
      "cell_type": "markdown",
      "metadata": {
        "id": "IXB2FtyU8Wjd"
      },
      "source": [
        "![green-divider](https://user-images.githubusercontent.com/7065401/52071924-c003ad80-2562-11e9-8297-1c6595f8a7ff.png)\n",
        "\n",
        "### Add 7.2% TAX on every sale `Unit_Price` within United States"
      ]
    },
    {
      "cell_type": "code",
      "execution_count": null,
      "metadata": {
        "id": "chMCDW4P8Wjd"
      },
      "outputs": [],
      "source": [
        "# your code goes here\n"
      ]
    },
    {
      "cell_type": "code",
      "execution_count": null,
      "metadata": {
        "cell_type": "solution",
        "id": "s51xJxaO8Wjd"
      },
      "outputs": [],
      "source": [
        "#sales.loc[sales['Country'] == 'United States', 'Unit_Price'] = sales.loc[sales['Country'] == 'United States', 'Unit_Price'] * 1.072\n",
        "\n",
        "sales.loc[sales['Country'] == 'United States', 'Unit_Price'] *= 1.072"
      ]
    },
    {
      "cell_type": "markdown",
      "metadata": {
        "id": "yoYzsvdx8Wje"
      },
      "source": [
        "![purple-divider](https://user-images.githubusercontent.com/7065401/52071927-c1cd7100-2562-11e9-908a-dde91ba14e59.png)"
      ]
    }
  ],
  "metadata": {
    "kernelspec": {
      "display_name": "Python 3",
      "language": "python",
      "name": "python3"
    },
    "language_info": {
      "codemirror_mode": {
        "name": "ipython",
        "version": 3
      },
      "file_extension": ".py",
      "mimetype": "text/x-python",
      "name": "python",
      "nbconvert_exporter": "python",
      "pygments_lexer": "ipython3",
      "version": "3.8.1"
    },
    "colab": {
      "provenance": []
    }
  },
  "nbformat": 4,
  "nbformat_minor": 0
}